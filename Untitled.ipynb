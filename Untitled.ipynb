{
  "nbformat": 4,
  "nbformat_minor": 0,
  "metadata": {
    "kernelspec": {
      "display_name": "Python 3",
      "language": "python",
      "name": "python3"
    },
    "language_info": {
      "codemirror_mode": {
        "name": "ipython",
        "version": 3
      },
      "file_extension": ".py",
      "mimetype": "text/x-python",
      "name": "python",
      "nbconvert_exporter": "python",
      "pygments_lexer": "ipython3",
      "version": "3.7.4"
    },
    "colab": {
      "name": "Untitled.ipynb",
      "provenance": [],
      "collapsed_sections": [],
      "include_colab_link": true
    }
  },
  "cells": [
    {
      "cell_type": "markdown",
      "metadata": {
        "id": "view-in-github",
        "colab_type": "text"
      },
      "source": [
        "<a href=\"https://colab.research.google.com/github/KimNeugebauer/BrandPreferences/blob/master/Untitled.ipynb\" target=\"_parent\"><img src=\"https://colab.research.google.com/assets/colab-badge.svg\" alt=\"Open In Colab\"/></a>"
      ]
    },
    {
      "cell_type": "code",
      "metadata": {
        "id": "ngZ7Cq_HIu-R",
        "colab_type": "code",
        "colab": {}
      },
      "source": [
        "import pandas as pd"
      ],
      "execution_count": null,
      "outputs": []
    },
    {
      "cell_type": "code",
      "metadata": {
        "id": "YnEVFoOfNBnr",
        "colab_type": "code",
        "colab": {}
      },
      "source": [
        "import tensorflow as tf\n"
      ],
      "execution_count": null,
      "outputs": []
    },
    {
      "cell_type": "code",
      "metadata": {
        "id": "wMbbRwrKIu-a",
        "colab_type": "code",
        "colab": {
          "base_uri": "https://localhost:8080/",
          "height": 34
        },
        "outputId": "05cae2ba-4595-4fa5-8ed1-8b0696429336"
      },
      "source": [
        "import numpy as np\n",
        "\n",
        "def comparatorValue(a,b,d):\n",
        "\n",
        "  true_list = []\n",
        "\n",
        "  for i in range(0,len(a)):\n",
        "    m = []\n",
        "    for j in range(0,len(b)):\n",
        "      m.append(abs(a[i] - b[j]))    \n",
        "    m = np.array(m)\n",
        "    \n",
        "    true_list.append((m > d).sum() == d) \n",
        " \n",
        "  print(sum(true_list))\n",
        "\n",
        "a = [7,5,9]\n",
        "b = [13,1,4]\n",
        "d = 3\n",
        "\n",
        "comparatorValue(a,b,d)\n"
      ],
      "execution_count": null,
      "outputs": [
        {
          "output_type": "stream",
          "text": [
            "1\n"
          ],
          "name": "stdout"
        }
      ]
    },
    {
      "cell_type": "code",
      "metadata": {
        "id": "1M8CchYPWkB2",
        "colab_type": "code",
        "colab": {
          "base_uri": "https://localhost:8080/",
          "height": 34
        },
        "outputId": "8830116a-403f-41d4-fc35-063bf7bb8401"
      },
      "source": [
        "a = [7,5,9]\n",
        "b = [13,1,4]\n",
        "d = 3\n",
        "\n",
        "true_list = []\n",
        "\n",
        "for i in [0,2]:\n",
        "  temp_list = []\n",
        "  for j in[0,2]:\n",
        "    temp_list.append(abs(a[i] - b[j]))\n",
        "  temp_counter = 0\n",
        "  for k in temp_list:\n",
        "    if k > 3:\n",
        "      temp_counter = temp_counter + 1\n",
        "    else:                                    \n",
        "      pass\n",
        "\n",
        "  if temp_counter == d:\n",
        "    true_list.append(TRUE)\n",
        "  else:\n",
        "    pass  \n",
        "\n",
        "print(true_list)\n"
      ],
      "execution_count": null,
      "outputs": [
        {
          "output_type": "stream",
          "text": [
            "[]\n"
          ],
          "name": "stdout"
        }
      ]
    },
    {
      "cell_type": "code",
      "metadata": {
        "id": "W2vHCSRgIu-f",
        "colab_type": "code",
        "colab": {
          "base_uri": "https://localhost:8080/",
          "height": 129
        },
        "outputId": "9e9b7566-4ebb-4c7a-f00b-61dbeef3ea4b"
      },
      "source": [
        "def fizzBuzz(n):\n",
        "\n",
        "for i in [0, n+1]:\n",
        "  if i%15 == 0:\n",
        "    print(\"FizzBuzz\")\n",
        "  elif i%3 == 0:\n",
        "    print(\"Fizz\")\n",
        "  elif i%5 == 0:\n",
        "    print(\"Buzz\")\n",
        "  else:\n",
        "    print(i)\n",
        "\n",
        "print(fizzBuzz)"
      ],
      "execution_count": null,
      "outputs": [
        {
          "output_type": "error",
          "ename": "IndentationError",
          "evalue": "ignored",
          "traceback": [
            "\u001b[0;36m  File \u001b[0;32m\"<ipython-input-10-4169a3563d33>\"\u001b[0;36m, line \u001b[0;32m3\u001b[0m\n\u001b[0;31m    for i in [0, n+1]:\u001b[0m\n\u001b[0m      ^\u001b[0m\n\u001b[0;31mIndentationError\u001b[0m\u001b[0;31m:\u001b[0m expected an indented block\n"
          ]
        }
      ]
    },
    {
      "cell_type": "code",
      "metadata": {
        "id": "JOCO--uHWl7o",
        "colab_type": "code",
        "colab": {
          "base_uri": "https://localhost:8080/",
          "height": 34
        },
        "outputId": "7a675610-07a4-4c8c-fa09-e10252d170bb"
      },
      "source": [
        "\n"
      ],
      "execution_count": null,
      "outputs": [
        {
          "output_type": "execute_result",
          "data": {
            "text/plain": [
              "0"
            ]
          },
          "metadata": {
            "tags": []
          },
          "execution_count": 11
        }
      ]
    }
  ]
}